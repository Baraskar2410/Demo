{
 "cells": [
  {
   "cell_type": "markdown",
   "id": "44bc889d-b863-4db5-9f84-c428d87e7032",
   "metadata": {},
   "source": [
    "Some of the commonly used libraries used by Data Scientist include:"
   ]
  },
  {
   "cell_type": "markdown",
   "id": "88b3844b-ad46-4971-a15d-180fdd5f7b56",
   "metadata": {},
   "source": [
    "Ordered List\n",
    "1. Pandas\n",
    "2. Dask\n",
    "3. NumPy\n",
    "4. SciPy\n",
    "5. Seaborn\n",
    "6. TensorFlow/Keras"
   ]
  }
 ],
 "metadata": {
  "kernelspec": {
   "display_name": "Python 3 (ipykernel)",
   "language": "python",
   "name": "python3"
  },
  "language_info": {
   "codemirror_mode": {
    "name": "ipython",
    "version": 3
   },
   "file_extension": ".py",
   "mimetype": "text/x-python",
   "name": "python",
   "nbconvert_exporter": "python",
   "pygments_lexer": "ipython3",
   "version": "3.13.5"
  }
 },
 "nbformat": 4,
 "nbformat_minor": 5
}
