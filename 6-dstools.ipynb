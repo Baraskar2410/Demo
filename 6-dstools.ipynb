{
 "cells": [
  {
   "cell_type": "markdown",
   "id": "0d07a3c8-b035-44c1-b5cf-f36b86ec7d4e",
   "metadata": {},
   "source": [
    "| \"\"Data Science Tools\"\"              |\n",
    "|--------------------------------------------|\n",
    "| Jupyter Notebook                    |\n",
    "| RStudio                         |\n",
    "| Apache Zeppelin                     |"
   ]
  }
 ],
 "metadata": {
  "kernelspec": {
   "display_name": "Python 3 (ipykernel)",
   "language": "python",
   "name": "python3"
  },
  "language_info": {
   "codemirror_mode": {
    "name": "ipython",
    "version": 3
   },
   "file_extension": ".py",
   "mimetype": "text/x-python",
   "name": "python",
   "nbconvert_exporter": "python",
   "pygments_lexer": "ipython3",
   "version": "3.13.5"
  }
 },
 "nbformat": 4,
 "nbformat_minor": 5
}
