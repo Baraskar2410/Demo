{
 "cells": [
  {
   "cell_type": "markdown",
   "id": "6434abd2-8939-47c7-b811-10d79869bd60",
   "metadata": {},
   "source": [
    "# \"\"Objectives:\"\""
   ]
  },
  {
   "cell_type": "markdown",
   "id": "04d2dee7-b294-4134-b864-0e3377ccf724",
   "metadata": {},
   "source": [
    "- List popular languages used in Data Science\n",
    "- Identify commonly used libraries in Data Science\n",
    "- Create an evaluate arithmetic expression in Python\n",
    "- Understand basic data science tools and development environments\n",
    "- Convert time units (minutes to hours) using Python expression"
   ]
  }
 ],
 "metadata": {
  "kernelspec": {
   "display_name": "Python 3 (ipykernel)",
   "language": "python",
   "name": "python3"
  },
  "language_info": {
   "codemirror_mode": {
    "name": "ipython",
    "version": 3
   },
   "file_extension": ".py",
   "mimetype": "text/x-python",
   "name": "python",
   "nbconvert_exporter": "python",
   "pygments_lexer": "ipython3",
   "version": "3.13.5"
  }
 },
 "nbformat": 4,
 "nbformat_minor": 5
}
