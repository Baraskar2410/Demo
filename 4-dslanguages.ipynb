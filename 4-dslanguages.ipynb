{
 "cells": [
  {
   "cell_type": "markdown",
   "id": "7909de64-d0aa-420b-956d-e2d1b9ed1cc9",
   "metadata": {},
   "source": [
    "Some of the popular languages that Data Scientist use are:\n"
   ]
  },
  {
   "cell_type": "markdown",
   "id": "3efb7fc1-2a06-4a2e-92aa-1c7c74d623df",
   "metadata": {},
   "source": [
    "Ordered List\n",
    "1. Python\n",
    "2. R\n",
    "3. SQL\n",
    "4. Java\n",
    "5. Scala\n",
    "6. Julia"
   ]
  }
 ],
 "metadata": {
  "kernelspec": {
   "display_name": "Python 3 (ipykernel)",
   "language": "python",
   "name": "python3"
  },
  "language_info": {
   "codemirror_mode": {
    "name": "ipython",
    "version": 3
   },
   "file_extension": ".py",
   "mimetype": "text/x-python",
   "name": "python",
   "nbconvert_exporter": "python",
   "pygments_lexer": "ipython3",
   "version": "3.13.5"
  }
 },
 "nbformat": 4,
 "nbformat_minor": 5
}
